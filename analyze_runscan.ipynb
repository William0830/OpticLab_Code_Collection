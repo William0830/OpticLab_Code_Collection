{
 "cells": [
  {
   "cell_type": "code",
   "execution_count": 1,
   "metadata": {},
   "outputs": [
    {
     "name": "stdout",
     "output_type": "stream",
     "text": [
      "Using matplotlib backend: <object object at 0x0000020C019A7720>\n"
     ]
    }
   ],
   "source": [
    "import numpy as np\n",
    "import matplotlib.pyplot as plt\n",
    "import matplotlib.colors as colors\n",
    "from mpl_toolkits.axes_grid1 import make_axes_locatable\n",
    "import os\n",
    "import scan_plot_and_analysis as spa\n",
    "%matplotlib\n",
    "\n"
   ]
  },
  {
   "cell_type": "code",
   "execution_count": 2,
   "metadata": {},
   "outputs": [],
   "source": [
    "def plot_int_heatmap(Xs, Ys, channel_ints, size=(8, 8), save=False, save_name='scan.png'):\n",
    "    \"\"\"Plot intensity heatmap of 2D scan.\"\"\"\n",
    "    \n",
    "    Z = channel_ints\n",
    "\n",
    "    axis_label_size = 26\n",
    "    axis_tick_size = 22\n",
    "    cb_label_size = 26\n",
    "    cb_tick_size = 16\n",
    "    \n",
    "    fig, ax = plt.subplots(1, 1, figsize=size)\n",
    "\n",
    "    plot = ax.pcolor(Xs, Ys, Z, cmap='viridis', shading='auto', norm=colors.LogNorm(vmin=Z.min(), vmax=Z.max()))\n",
    "    ax.set_aspect('equal')\n",
    "\n",
    "    divider = make_axes_locatable(ax)\n",
    "    cax = divider.append_axes(\"right\", size=\"5%\", pad=0.10)\n",
    "    cb = plt.colorbar(plot, cax=cax, orientation='vertical')\n",
    "    cb.ax.tick_params(labelsize=cb_tick_size)\n",
    "    cb.set_label(label='Intensity (counts/100ms)', fontsize=cb_label_size)\n",
    "    \n",
    "    # ax.autoscale(tight=True)\n",
    "    ax.set_xlabel('X (µm)', fontsize=axis_label_size)\n",
    "    ax.set_ylabel('Y (µm)', fontsize=axis_label_size)\n",
    "    ax.tick_params(axis='both', which='major', labelsize=axis_tick_size)\n",
    "    # ax.set_title(title, fontsize=26, pad=20)\n",
    "    plt.tight_layout()\n",
    "\n",
    "    if save:\n",
    "        plt.savefig(save_name, dpi=300)\n",
    "        plt.close(fig)\n",
    "    else:\n",
    "        plt.show()"
   ]
  },
  {
   "cell_type": "code",
   "execution_count": 3,
   "metadata": {},
   "outputs": [],
   "source": [
    "#read in abscounts\n",
    "scan_name = r\"C:\\Users\\spmno\\OneDrive\\Documents\\spm\\test4\\Scan Data\\2024-04-18/2024-04-18_pq8_scan_data.txt\"\n",
    "\n",
    "len = 100\n",
    "res = 2.5\n",
    "\n",
    "Xs, Ys, Ts, CH1_ints, CH2_ints = spa.load_scan_data(len, len, res, scan_name)\n",
    "sumed = CH1_ints + CH2_ints\n",
    "\n",
    "# plt.hist(CH2_ints.flatten(), bins=100)\n",
    "# plt.show()\n",
    "\n",
    "spa.plot_int_heatmap(Xs, Ys, sumed, save=False)\n",
    "# spa.plot_int_heatmap(Xs, Ys, CH1_ints, save=False, save_name='{}_ch2.png'.format(scan_name[:-4]))\n",
    "# spa.plot_positions_and_error(Xs, Ys, res, xlim = (50, 100), ylim = (50, 100), ticks = 4)"
   ]
  },
  {
   "cell_type": "code",
   "execution_count": 4,
   "metadata": {},
   "outputs": [
    {
     "ename": "ValueError",
     "evalue": "cannot reshape array of size 10201 into shape (1,1)",
     "output_type": "error",
     "traceback": [
      "\u001b[1;31m---------------------------------------------------------------------------\u001b[0m",
      "\u001b[1;31mValueError\u001b[0m                                Traceback (most recent call last)",
      "Cell \u001b[1;32mIn[4], line 12\u001b[0m\n\u001b[0;32m     10\u001b[0m         ch1_abs\u001b[38;5;241m.\u001b[39mappend(\u001b[38;5;28mfloat\u001b[39m(line\u001b[38;5;241m.\u001b[39mstrip(\u001b[38;5;124m'\u001b[39m\u001b[38;5;124m[ ] \u001b[39m\u001b[38;5;130;01m\\n\u001b[39;00m\u001b[38;5;124m'\u001b[39m)\u001b[38;5;241m.\u001b[39msplit(\u001b[38;5;124m'\u001b[39m\u001b[38;5;124m,\u001b[39m\u001b[38;5;124m'\u001b[39m)[\u001b[38;5;241m0\u001b[39m]))\n\u001b[0;32m     11\u001b[0m         ch2_abs\u001b[38;5;241m.\u001b[39mappend(\u001b[38;5;28mfloat\u001b[39m(line\u001b[38;5;241m.\u001b[39mstrip(\u001b[38;5;124m'\u001b[39m\u001b[38;5;124m[ ] \u001b[39m\u001b[38;5;130;01m\\n\u001b[39;00m\u001b[38;5;124m'\u001b[39m)\u001b[38;5;241m.\u001b[39msplit(\u001b[38;5;124m'\u001b[39m\u001b[38;5;124m,\u001b[39m\u001b[38;5;124m'\u001b[39m)[\u001b[38;5;241m1\u001b[39m]))\n\u001b[1;32m---> 12\u001b[0m Ch1_ints_gc \u001b[38;5;241m=\u001b[39m np\u001b[38;5;241m.\u001b[39mreshape(ch1_abs, (lenx, leny))\n\u001b[0;32m     13\u001b[0m Ch2_ints_gc \u001b[38;5;241m=\u001b[39m np\u001b[38;5;241m.\u001b[39mreshape(ch2_abs, (lenx, leny))\n",
      "File \u001b[1;32m<__array_function__ internals>:200\u001b[0m, in \u001b[0;36mreshape\u001b[1;34m(*args, **kwargs)\u001b[0m\n",
      "File \u001b[1;32mc:\\ProgramData\\anaconda3\\Lib\\site-packages\\numpy\\core\\fromnumeric.py:298\u001b[0m, in \u001b[0;36mreshape\u001b[1;34m(a, newshape, order)\u001b[0m\n\u001b[0;32m    198\u001b[0m \u001b[38;5;129m@array_function_dispatch\u001b[39m(_reshape_dispatcher)\n\u001b[0;32m    199\u001b[0m \u001b[38;5;28;01mdef\u001b[39;00m \u001b[38;5;21mreshape\u001b[39m(a, newshape, order\u001b[38;5;241m=\u001b[39m\u001b[38;5;124m'\u001b[39m\u001b[38;5;124mC\u001b[39m\u001b[38;5;124m'\u001b[39m):\n\u001b[0;32m    200\u001b[0m \u001b[38;5;250m    \u001b[39m\u001b[38;5;124;03m\"\"\"\u001b[39;00m\n\u001b[0;32m    201\u001b[0m \u001b[38;5;124;03m    Gives a new shape to an array without changing its data.\u001b[39;00m\n\u001b[0;32m    202\u001b[0m \n\u001b[1;32m   (...)\u001b[0m\n\u001b[0;32m    296\u001b[0m \u001b[38;5;124;03m           [5, 6]])\u001b[39;00m\n\u001b[0;32m    297\u001b[0m \u001b[38;5;124;03m    \"\"\"\u001b[39;00m\n\u001b[1;32m--> 298\u001b[0m     \u001b[38;5;28;01mreturn\u001b[39;00m _wrapfunc(a, \u001b[38;5;124m'\u001b[39m\u001b[38;5;124mreshape\u001b[39m\u001b[38;5;124m'\u001b[39m, newshape, order\u001b[38;5;241m=\u001b[39morder)\n",
      "File \u001b[1;32mc:\\ProgramData\\anaconda3\\Lib\\site-packages\\numpy\\core\\fromnumeric.py:54\u001b[0m, in \u001b[0;36m_wrapfunc\u001b[1;34m(obj, method, *args, **kwds)\u001b[0m\n\u001b[0;32m     52\u001b[0m bound \u001b[38;5;241m=\u001b[39m \u001b[38;5;28mgetattr\u001b[39m(obj, method, \u001b[38;5;28;01mNone\u001b[39;00m)\n\u001b[0;32m     53\u001b[0m \u001b[38;5;28;01mif\u001b[39;00m bound \u001b[38;5;129;01mis\u001b[39;00m \u001b[38;5;28;01mNone\u001b[39;00m:\n\u001b[1;32m---> 54\u001b[0m     \u001b[38;5;28;01mreturn\u001b[39;00m _wrapit(obj, method, \u001b[38;5;241m*\u001b[39margs, \u001b[38;5;241m*\u001b[39m\u001b[38;5;241m*\u001b[39mkwds)\n\u001b[0;32m     56\u001b[0m \u001b[38;5;28;01mtry\u001b[39;00m:\n\u001b[0;32m     57\u001b[0m     \u001b[38;5;28;01mreturn\u001b[39;00m bound(\u001b[38;5;241m*\u001b[39margs, \u001b[38;5;241m*\u001b[39m\u001b[38;5;241m*\u001b[39mkwds)\n",
      "File \u001b[1;32mc:\\ProgramData\\anaconda3\\Lib\\site-packages\\numpy\\core\\fromnumeric.py:43\u001b[0m, in \u001b[0;36m_wrapit\u001b[1;34m(obj, method, *args, **kwds)\u001b[0m\n\u001b[0;32m     41\u001b[0m \u001b[38;5;28;01mexcept\u001b[39;00m \u001b[38;5;167;01mAttributeError\u001b[39;00m:\n\u001b[0;32m     42\u001b[0m     wrap \u001b[38;5;241m=\u001b[39m \u001b[38;5;28;01mNone\u001b[39;00m\n\u001b[1;32m---> 43\u001b[0m result \u001b[38;5;241m=\u001b[39m \u001b[38;5;28mgetattr\u001b[39m(asarray(obj), method)(\u001b[38;5;241m*\u001b[39margs, \u001b[38;5;241m*\u001b[39m\u001b[38;5;241m*\u001b[39mkwds)\n\u001b[0;32m     44\u001b[0m \u001b[38;5;28;01mif\u001b[39;00m wrap:\n\u001b[0;32m     45\u001b[0m     \u001b[38;5;28;01mif\u001b[39;00m \u001b[38;5;129;01mnot\u001b[39;00m \u001b[38;5;28misinstance\u001b[39m(result, mu\u001b[38;5;241m.\u001b[39mndarray):\n",
      "\u001b[1;31mValueError\u001b[0m: cannot reshape array of size 10201 into shape (1,1)"
     ]
    },
    {
     "ename": "",
     "evalue": "",
     "output_type": "error",
     "traceback": [
      "\u001b[1;31mThe Kernel crashed while executing code in the the current cell or a previous cell. Please review the code in the cell(s) to identify a possible cause of the failure. Click <a href='https://aka.ms/vscodeJupyterKernelCrash'>here</a> for more info. View Jupyter <a href='command:jupyter.viewOutput'>log</a> for further details."
     ]
    }
   ],
   "source": [
    "lenx = int(1.5 / res) + 1\n",
    "leny = int(1.5 / res) + 1\n",
    "\n",
    "scan_data_file = r'C:\\Users\\spmno\\OneDrive\\Documents\\spm\\test4\\Scan Data\\2024-01-15\\2024-01-15_ITK 750pM9_scan_data.txt'\n",
    "\n",
    "with open(scan_data_file, 'r') as f:\n",
    "    ch1_abs = []\n",
    "    ch2_abs = []\n",
    "    for line in f:\n",
    "        ch1_abs.append(float(line.strip('[ ] \\n').split(',')[0]))\n",
    "        ch2_abs.append(float(line.strip('[ ] \\n').split(',')[1]))\n",
    "Ch1_ints_gc = np.reshape(ch1_abs, (lenx, leny))\n",
    "Ch2_ints_gc = np.reshape(ch2_abs, (lenx, leny))\n",
    "\n"
   ]
  },
  {
   "cell_type": "code",
   "execution_count": null,
   "metadata": {},
   "outputs": [
    {
     "data": {
      "image/png": "[encoded data removed]",
      "text/plain": [
       "<Figure size 640x480 with 1 Axes>"
      ]
     },
     "metadata": {},
     "output_type": "display_data"
    }
   ],
   "source": [
    "plt.hist(CH1_ints.flatten(), bins=100, log=True, label='CH1_histo')\n",
    "plt.hist(CH2_ints.flatten(), bins=100, log=True, label='CH2_histo')\n",
    "plt.hist(Ch1_ints_gc.flatten()/25, bins=100, log=True, label='CH1_histo_gc')\n",
    "plt.hist(Ch2_ints_gc.flatten()/25, bins=100, log=True, label='CH2_histo_gc')\n",
    "plt.legend()\n",
    "plt.show()\n"
   ]
  },
  {
   "cell_type": "code",
   "execution_count": null,
   "metadata": {},
   "outputs": [],
   "source": [
    "spa.plot_int_heatmap(Xs, Ys, CH1_ints + CH2_ints, size=(8, 8), save=False, save_name='scan.png')"
   ]
  },
  {
   "cell_type": "code",
   "execution_count": null,
   "metadata": {},
   "outputs": [],
   "source": []
  }
 ],
 "metadata": {
  "kernelspec": {
   "display_name": "Python 3 (ipykernel)",
   "language": "python",
   "name": "python3"
  },
  "language_info": {
   "codemirror_mode": {
    "name": "ipython",
    "version": 3
   },
   "file_extension": ".py",
   "mimetype": "text/x-python",
   "name": "python",
   "nbconvert_exporter": "python",
   "pygments_lexer": "ipython3",
   "version": "3.11.3"
  }
 },
 "nbformat": 4,
 "nbformat_minor": 2
}
